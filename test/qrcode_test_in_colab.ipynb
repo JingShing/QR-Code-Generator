{
  "nbformat": 4,
  "nbformat_minor": 0,
  "metadata": {
    "colab": {
      "provenance": []
    },
    "kernelspec": {
      "name": "python3",
      "display_name": "Python 3"
    },
    "language_info": {
      "name": "python"
    }
  },
  "cells": [
    {
      "cell_type": "code",
      "execution_count": 3,
      "metadata": {
        "colab": {
          "base_uri": "https://localhost:8080/",
          "height": 342
        },
        "id": "NtQ8Pn3jzYP0",
        "outputId": "bd22cc5f-c521-42f2-cf4b-a4e319829eed"
      },
      "outputs": [
        {
          "output_type": "stream",
          "name": "stdout",
          "text": [
            "Looking in indexes: https://pypi.org/simple, https://us-python.pkg.dev/colab-wheels/public/simple/\n",
            "Requirement already satisfied: qrcode in /usr/local/lib/python3.7/dist-packages (7.3.1)\n"
          ]
        },
        {
          "output_type": "display_data",
          "data": {
            "text/plain": [
              "<PIL.Image.Image image mode=RGB size=290x290 at 0x7FC0CAE4F610>"
            ],
            "image/png": "[encoded data removed]"
          },
          "metadata": {}
        }
      ],
      "source": [
        "!pip install qrcode\n",
        "import qrcode\n",
        "from google.colab.patches import cv2_imshow\n",
        "import cv2\n",
        "img = qrcode.make('jingshing.com')\n",
        "img.save('my_website.png')\n",
        "img = cv2.imread('my_website.png')\n",
        "cv2_imshow(img)"
      ]
    },
    {
      "cell_type": "code",
      "source": [
        "!pip install MyQR\n",
        "from MyQR import myqr\n",
        "\n",
        "myqr.run(words = 'jingshing.com', # text\n",
        "         picture = 'bg.gif', # put gif\n",
        "         version = 20,\n",
        "         level = 'H', # debug levle, default is H(high)\n",
        "         colorized = True, # is the bg colored，True is color\n",
        "         save_name = 'qrcode.gif') # save name"
      ],
      "metadata": {
        "colab": {
          "base_uri": "https://localhost:8080/"
        },
        "id": "5HP3bkIx_JT4",
        "outputId": "61e6fd7b-755f-407d-ecba-e56f56c31b63"
      },
      "execution_count": null,
      "outputs": [
        {
          "output_type": "stream",
          "name": "stdout",
          "text": [
            "Looking in indexes: https://pypi.org/simple, https://us-python.pkg.dev/colab-wheels/public/simple/\n",
            "Requirement already satisfied: MyQR in /usr/local/lib/python3.7/dist-packages (2.3.1)\n",
            "Requirement already satisfied: imageio>=1.5 in /usr/local/lib/python3.7/dist-packages (from MyQR) (2.9.0)\n",
            "Requirement already satisfied: Pillow>=3.3.1 in /usr/local/lib/python3.7/dist-packages (from MyQR) (7.1.2)\n",
            "Requirement already satisfied: numpy>=1.11.1 in /usr/local/lib/python3.7/dist-packages (from MyQR) (1.21.6)\n",
            "line 16: mode: byte\n"
          ]
        }
      ]
    }
  ]
}